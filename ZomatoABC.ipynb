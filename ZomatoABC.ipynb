{
 "cells": [
  {
   "cell_type": "code",
   "execution_count": 17,
   "metadata": {},
   "outputs": [
    {
     "data": {
      "text/html": [
       "<div>\n",
       "<style scoped>\n",
       "    .dataframe tbody tr th:only-of-type {\n",
       "        vertical-align: middle;\n",
       "    }\n",
       "\n",
       "    .dataframe tbody tr th {\n",
       "        vertical-align: top;\n",
       "    }\n",
       "\n",
       "    .dataframe thead th {\n",
       "        text-align: right;\n",
       "    }\n",
       "</style>\n",
       "<table border=\"1\" class=\"dataframe\">\n",
       "  <thead>\n",
       "    <tr style=\"text-align: right;\">\n",
       "      <th></th>\n",
       "      <th>Unnamed: 0</th>\n",
       "      <th>cost_for_two</th>\n",
       "      <th>cuisines</th>\n",
       "      <th>locality</th>\n",
       "      <th>rating</th>\n",
       "      <th>rest_name</th>\n",
       "      <th>votes</th>\n",
       "    </tr>\n",
       "  </thead>\n",
       "  <tbody>\n",
       "    <tr>\n",
       "      <th>0</th>\n",
       "      <td>0</td>\n",
       "      <td>1,500</td>\n",
       "      <td>['North Indian', 'European', 'Mediterranean', ...</td>\n",
       "      <td>Marathahalli</td>\n",
       "      <td>4.8</td>\n",
       "      <td>The Black Pearl                               ...</td>\n",
       "      <td>12080</td>\n",
       "    </tr>\n",
       "    <tr>\n",
       "      <th>1</th>\n",
       "      <td>1</td>\n",
       "      <td>1,300</td>\n",
       "      <td>['American', 'Continental', 'North Indian', 'M...</td>\n",
       "      <td>Old Airport Road</td>\n",
       "      <td>4.6</td>\n",
       "      <td>Big Pitcher</td>\n",
       "      <td>11547</td>\n",
       "    </tr>\n",
       "    <tr>\n",
       "      <th>2</th>\n",
       "      <td>2</td>\n",
       "      <td>2,000</td>\n",
       "      <td>['Continental', 'North Indian', 'Chinese', 'Pi...</td>\n",
       "      <td>Koramangala 5th Block</td>\n",
       "      <td>4.6</td>\n",
       "      <td>XOOX Brewmill                                 ...</td>\n",
       "      <td>3261</td>\n",
       "    </tr>\n",
       "    <tr>\n",
       "      <th>3</th>\n",
       "      <td>3</td>\n",
       "      <td>1,600</td>\n",
       "      <td>['Continental', 'Asian', 'Italian', 'North Ind...</td>\n",
       "      <td>Marathahalli</td>\n",
       "      <td>4.9</td>\n",
       "      <td>TBC- Sky Lounge                               ...</td>\n",
       "      <td>6485</td>\n",
       "    </tr>\n",
       "    <tr>\n",
       "      <th>4</th>\n",
       "      <td>4</td>\n",
       "      <td>800</td>\n",
       "      <td>['Chinese', 'North Indian', 'Fast Food', 'Fing...</td>\n",
       "      <td>The Sahar Pavilion, Electronic City</td>\n",
       "      <td>4.0</td>\n",
       "      <td>Dr. Sheesha 24 Hours Gastro Pub               ...</td>\n",
       "      <td>230</td>\n",
       "    </tr>\n",
       "  </tbody>\n",
       "</table>\n",
       "</div>"
      ],
      "text/plain": [
       "   Unnamed: 0 cost_for_two                                           cuisines  \\\n",
       "0           0        1,500  ['North Indian', 'European', 'Mediterranean', ...   \n",
       "1           1        1,300  ['American', 'Continental', 'North Indian', 'M...   \n",
       "2           2        2,000  ['Continental', 'North Indian', 'Chinese', 'Pi...   \n",
       "3           3        1,600  ['Continental', 'Asian', 'Italian', 'North Ind...   \n",
       "4           4          800  ['Chinese', 'North Indian', 'Fast Food', 'Fing...   \n",
       "\n",
       "                              locality  rating  \\\n",
       "0                         Marathahalli     4.8   \n",
       "1                     Old Airport Road     4.6   \n",
       "2                Koramangala 5th Block     4.6   \n",
       "3                         Marathahalli     4.9   \n",
       "4  The Sahar Pavilion, Electronic City     4.0   \n",
       "\n",
       "                                           rest_name  votes  \n",
       "0  The Black Pearl                               ...  12080  \n",
       "1   Big Pitcher                                       11547  \n",
       "2  XOOX Brewmill                                 ...   3261  \n",
       "3  TBC- Sky Lounge                               ...   6485  \n",
       "4  Dr. Sheesha 24 Hours Gastro Pub               ...    230  "
      ]
     },
     "execution_count": 17,
     "metadata": {},
     "output_type": "execute_result"
    }
   ],
   "source": [
    "import pandas as pd\n",
    "import matplotlib.pyplot as plt\n",
    "import seaborn as sns\n",
    "import numpy as np\n",
    "\n",
    "data = pd.read_csv('zomato_restaurants.csv')\n",
    "data.head()"
   ]
  },
  {
   "cell_type": "code",
   "execution_count": 18,
   "metadata": {},
   "outputs": [],
   "source": [
    "def ABC_segmentation(perc):\n",
    "    '''\n",
    "    Creates the 3 classes A, B, and C based \n",
    "    on quantity percentages (A-60%, B-25%, C-15%)\n",
    "    '''\n",
    "    if perc > 0 and perc < 0.6:\n",
    "        return 'A'\n",
    "    elif perc >= 0.6 and perc < 0.85:\n",
    "        return 'B'\n",
    "    elif perc >= 0.85:\n",
    "        return 'C'"
   ]
  },
  {
   "cell_type": "code",
   "execution_count": 19,
   "metadata": {},
   "outputs": [
    {
     "name": "stderr",
     "output_type": "stream",
     "text": [
      "C:\\Users\\Keerthana Sundaresan\\Anaconda3\\lib\\site-packages\\ipykernel_launcher.py:4: SettingWithCopyWarning: \n",
      "A value is trying to be set on a copy of a slice from a DataFrame.\n",
      "Try using .loc[row_indexer,col_indexer] = value instead\n",
      "\n",
      "See the caveats in the documentation: http://pandas.pydata.org/pandas-docs/stable/indexing.html#indexing-view-versus-copy\n",
      "  after removing the cwd from sys.path.\n",
      "C:\\Users\\Keerthana Sundaresan\\Anaconda3\\lib\\site-packages\\ipykernel_launcher.py:5: SettingWithCopyWarning: \n",
      "A value is trying to be set on a copy of a slice from a DataFrame.\n",
      "Try using .loc[row_indexer,col_indexer] = value instead\n",
      "\n",
      "See the caveats in the documentation: http://pandas.pydata.org/pandas-docs/stable/indexing.html#indexing-view-versus-copy\n",
      "  \"\"\"\n"
     ]
    }
   ],
   "source": [
    "data_sub = data[['cost_for_two','rest_name','votes']]\n",
    "\n",
    "remove_comma = lambda x: int(x.replace(',', '')) if type(x) == np.str and x != np.nan else x \n",
    "data_sub['cost_for_two'] = data_sub['cost_for_two'].apply(remove_comma)\n",
    "data_sub['votes'] = data_sub['votes'].apply(remove_comma)"
   ]
  },
  {
   "cell_type": "code",
   "execution_count": 20,
   "metadata": {},
   "outputs": [
    {
     "name": "stderr",
     "output_type": "stream",
     "text": [
      "C:\\Users\\Keerthana Sundaresan\\Anaconda3\\lib\\site-packages\\ipykernel_launcher.py:1: SettingWithCopyWarning: \n",
      "A value is trying to be set on a copy of a slice from a DataFrame.\n",
      "Try using .loc[row_indexer,col_indexer] = value instead\n",
      "\n",
      "See the caveats in the documentation: http://pandas.pydata.org/pandas-docs/stable/indexing.html#indexing-view-versus-copy\n",
      "  \"\"\"Entry point for launching an IPython kernel.\n"
     ]
    },
    {
     "data": {
      "text/html": [
       "<div>\n",
       "<style scoped>\n",
       "    .dataframe tbody tr th:only-of-type {\n",
       "        vertical-align: middle;\n",
       "    }\n",
       "\n",
       "    .dataframe tbody tr th {\n",
       "        vertical-align: top;\n",
       "    }\n",
       "\n",
       "    .dataframe thead th {\n",
       "        text-align: right;\n",
       "    }\n",
       "</style>\n",
       "<table border=\"1\" class=\"dataframe\">\n",
       "  <thead>\n",
       "    <tr style=\"text-align: right;\">\n",
       "      <th></th>\n",
       "      <th>unit_cost</th>\n",
       "      <th>rest_name</th>\n",
       "      <th>votes</th>\n",
       "    </tr>\n",
       "  </thead>\n",
       "  <tbody>\n",
       "    <tr>\n",
       "      <th>0</th>\n",
       "      <td>750.0</td>\n",
       "      <td>The Black Pearl                               ...</td>\n",
       "      <td>12080</td>\n",
       "    </tr>\n",
       "    <tr>\n",
       "      <th>1</th>\n",
       "      <td>650.0</td>\n",
       "      <td>Big Pitcher</td>\n",
       "      <td>11547</td>\n",
       "    </tr>\n",
       "    <tr>\n",
       "      <th>2</th>\n",
       "      <td>1000.0</td>\n",
       "      <td>XOOX Brewmill                                 ...</td>\n",
       "      <td>3261</td>\n",
       "    </tr>\n",
       "    <tr>\n",
       "      <th>3</th>\n",
       "      <td>800.0</td>\n",
       "      <td>TBC- Sky Lounge                               ...</td>\n",
       "      <td>6485</td>\n",
       "    </tr>\n",
       "    <tr>\n",
       "      <th>4</th>\n",
       "      <td>400.0</td>\n",
       "      <td>Dr. Sheesha 24 Hours Gastro Pub               ...</td>\n",
       "      <td>230</td>\n",
       "    </tr>\n",
       "  </tbody>\n",
       "</table>\n",
       "</div>"
      ],
      "text/plain": [
       "   unit_cost                                          rest_name  votes\n",
       "0      750.0  The Black Pearl                               ...  12080\n",
       "1      650.0   Big Pitcher                                       11547\n",
       "2     1000.0  XOOX Brewmill                                 ...   3261\n",
       "3      800.0  TBC- Sky Lounge                               ...   6485\n",
       "4      400.0  Dr. Sheesha 24 Hours Gastro Pub               ...    230"
      ]
     },
     "execution_count": 20,
     "metadata": {},
     "output_type": "execute_result"
    }
   ],
   "source": [
    "data_sub['unit_cost'] = data_sub['cost_for_two']/2\n",
    "data_sub = data_sub[['unit_cost','rest_name','votes']]\n",
    "data_sub.head()"
   ]
  },
  {
   "cell_type": "code",
   "execution_count": 21,
   "metadata": {},
   "outputs": [
    {
     "data": {
      "text/html": [
       "<div>\n",
       "<style scoped>\n",
       "    .dataframe tbody tr th:only-of-type {\n",
       "        vertical-align: middle;\n",
       "    }\n",
       "\n",
       "    .dataframe tbody tr th {\n",
       "        vertical-align: top;\n",
       "    }\n",
       "\n",
       "    .dataframe thead th {\n",
       "        text-align: right;\n",
       "    }\n",
       "</style>\n",
       "<table border=\"1\" class=\"dataframe\">\n",
       "  <thead>\n",
       "    <tr style=\"text-align: right;\">\n",
       "      <th></th>\n",
       "      <th>unit_cost</th>\n",
       "      <th>rest_name</th>\n",
       "      <th>votes</th>\n",
       "      <th>add_cost</th>\n",
       "      <th>cumulative</th>\n",
       "      <th>total_sum</th>\n",
       "      <th>run_percent</th>\n",
       "      <th>Class</th>\n",
       "    </tr>\n",
       "  </thead>\n",
       "  <tbody>\n",
       "    <tr>\n",
       "      <th>14</th>\n",
       "      <td>1000.0</td>\n",
       "      <td>Toit</td>\n",
       "      <td>16262</td>\n",
       "      <td>16262000.0</td>\n",
       "      <td>16262000.0</td>\n",
       "      <td>962010502.5</td>\n",
       "      <td>0.016904</td>\n",
       "      <td>A</td>\n",
       "    </tr>\n",
       "    <tr>\n",
       "      <th>16</th>\n",
       "      <td>1200.0</td>\n",
       "      <td>Biergarten</td>\n",
       "      <td>9928</td>\n",
       "      <td>11913600.0</td>\n",
       "      <td>28175600.0</td>\n",
       "      <td>962010502.5</td>\n",
       "      <td>0.029288</td>\n",
       "      <td>A</td>\n",
       "    </tr>\n",
       "    <tr>\n",
       "      <th>9</th>\n",
       "      <td>800.0</td>\n",
       "      <td>AB's - Absolute Barbecues                     ...</td>\n",
       "      <td>14822</td>\n",
       "      <td>11857600.0</td>\n",
       "      <td>40033200.0</td>\n",
       "      <td>962010502.5</td>\n",
       "      <td>0.041614</td>\n",
       "      <td>A</td>\n",
       "    </tr>\n",
       "    <tr>\n",
       "      <th>42</th>\n",
       "      <td>1000.0</td>\n",
       "      <td>Brew and Barbeque - A Microbrewery Pub        ...</td>\n",
       "      <td>10787</td>\n",
       "      <td>10787000.0</td>\n",
       "      <td>50820200.0</td>\n",
       "      <td>962010502.5</td>\n",
       "      <td>0.052827</td>\n",
       "      <td>A</td>\n",
       "    </tr>\n",
       "    <tr>\n",
       "      <th>0</th>\n",
       "      <td>750.0</td>\n",
       "      <td>The Black Pearl                               ...</td>\n",
       "      <td>12080</td>\n",
       "      <td>9060000.0</td>\n",
       "      <td>59880200.0</td>\n",
       "      <td>962010502.5</td>\n",
       "      <td>0.062245</td>\n",
       "      <td>A</td>\n",
       "    </tr>\n",
       "  </tbody>\n",
       "</table>\n",
       "</div>"
      ],
      "text/plain": [
       "    unit_cost                                          rest_name  votes  \\\n",
       "14     1000.0          Toit                                       16262   \n",
       "16     1200.0    Biergarten                                        9928   \n",
       "9       800.0  AB's - Absolute Barbecues                     ...  14822   \n",
       "42     1000.0  Brew and Barbeque - A Microbrewery Pub        ...  10787   \n",
       "0       750.0  The Black Pearl                               ...  12080   \n",
       "\n",
       "      add_cost  cumulative    total_sum  run_percent Class  \n",
       "14  16262000.0  16262000.0  962010502.5     0.016904     A  \n",
       "16  11913600.0  28175600.0  962010502.5     0.029288     A  \n",
       "9   11857600.0  40033200.0  962010502.5     0.041614     A  \n",
       "42  10787000.0  50820200.0  962010502.5     0.052827     A  \n",
       "0    9060000.0  59880200.0  962010502.5     0.062245     A  "
      ]
     },
     "execution_count": 21,
     "metadata": {},
     "output_type": "execute_result"
    }
   ],
   "source": [
    "data_sub['add_cost'] = data_sub['unit_cost'] * data_sub['votes']\n",
    "data_sub = data_sub.sort_values(by=['add_cost'], ascending=False)\n",
    "data_sub['cumulative'] = data_sub['add_cost'].cumsum()\n",
    "data_sub['total_sum'] = data_sub['add_cost'].sum()\n",
    "data_sub['run_percent'] =  data_sub['cumulative']/data_sub['total_sum']\n",
    "data_sub['Class'] = data_sub['run_percent'].apply(ABC_segmentation)\n",
    "data_sub.head()"
   ]
  },
  {
   "cell_type": "code",
   "execution_count": 22,
   "metadata": {},
   "outputs": [
    {
     "data": {
      "text/html": [
       "<div>\n",
       "<style scoped>\n",
       "    .dataframe tbody tr th:only-of-type {\n",
       "        vertical-align: middle;\n",
       "    }\n",
       "\n",
       "    .dataframe tbody tr th {\n",
       "        vertical-align: top;\n",
       "    }\n",
       "\n",
       "    .dataframe thead th {\n",
       "        text-align: right;\n",
       "    }\n",
       "</style>\n",
       "<table border=\"1\" class=\"dataframe\">\n",
       "  <thead>\n",
       "    <tr style=\"text-align: right;\">\n",
       "      <th></th>\n",
       "      <th>unit_cost</th>\n",
       "      <th>rest_name</th>\n",
       "      <th>votes</th>\n",
       "      <th>add_cost</th>\n",
       "      <th>cumulative</th>\n",
       "      <th>total_sum</th>\n",
       "      <th>run_percent</th>\n",
       "      <th>Class</th>\n",
       "    </tr>\n",
       "  </thead>\n",
       "  <tbody>\n",
       "    <tr>\n",
       "      <th>2839</th>\n",
       "      <td>25.0</td>\n",
       "      <td>Shree Ganesh Fruit Juice Centre               ...</td>\n",
       "      <td>4</td>\n",
       "      <td>100.0</td>\n",
       "      <td>962010502.5</td>\n",
       "      <td>962010502.5</td>\n",
       "      <td>1.0</td>\n",
       "      <td>C</td>\n",
       "    </tr>\n",
       "    <tr>\n",
       "      <th>2557</th>\n",
       "      <td>250.0</td>\n",
       "      <td>83 Restaurant                                 ...</td>\n",
       "      <td>0</td>\n",
       "      <td>0.0</td>\n",
       "      <td>962010502.5</td>\n",
       "      <td>962010502.5</td>\n",
       "      <td>1.0</td>\n",
       "      <td>C</td>\n",
       "    </tr>\n",
       "    <tr>\n",
       "      <th>27</th>\n",
       "      <td>1300.0</td>\n",
       "      <td>High Ultra Lounge                             ...</td>\n",
       "      <td>0</td>\n",
       "      <td>0.0</td>\n",
       "      <td>962010502.5</td>\n",
       "      <td>962010502.5</td>\n",
       "      <td>1.0</td>\n",
       "      <td>C</td>\n",
       "    </tr>\n",
       "    <tr>\n",
       "      <th>2290</th>\n",
       "      <td>225.0</td>\n",
       "      <td>Chopstick</td>\n",
       "      <td>0</td>\n",
       "      <td>0.0</td>\n",
       "      <td>962010502.5</td>\n",
       "      <td>962010502.5</td>\n",
       "      <td>1.0</td>\n",
       "      <td>C</td>\n",
       "    </tr>\n",
       "    <tr>\n",
       "      <th>6153</th>\n",
       "      <td>150.0</td>\n",
       "      <td>T-hut Cafe</td>\n",
       "      <td>0</td>\n",
       "      <td>0.0</td>\n",
       "      <td>962010502.5</td>\n",
       "      <td>962010502.5</td>\n",
       "      <td>1.0</td>\n",
       "      <td>C</td>\n",
       "    </tr>\n",
       "  </tbody>\n",
       "</table>\n",
       "</div>"
      ],
      "text/plain": [
       "      unit_cost                                          rest_name  votes  \\\n",
       "2839       25.0  Shree Ganesh Fruit Juice Centre               ...      4   \n",
       "2557      250.0  83 Restaurant                                 ...      0   \n",
       "27       1300.0  High Ultra Lounge                             ...      0   \n",
       "2290      225.0     Chopstick                                           0   \n",
       "6153      150.0    T-hut Cafe                                           0   \n",
       "\n",
       "      add_cost   cumulative    total_sum  run_percent Class  \n",
       "2839     100.0  962010502.5  962010502.5          1.0     C  \n",
       "2557       0.0  962010502.5  962010502.5          1.0     C  \n",
       "27         0.0  962010502.5  962010502.5          1.0     C  \n",
       "2290       0.0  962010502.5  962010502.5          1.0     C  \n",
       "6153       0.0  962010502.5  962010502.5          1.0     C  "
      ]
     },
     "execution_count": 22,
     "metadata": {},
     "output_type": "execute_result"
    }
   ],
   "source": [
    "data_sub.tail()"
   ]
  },
  {
   "cell_type": "code",
   "execution_count": 23,
   "metadata": {},
   "outputs": [
    {
     "data": {
      "text/plain": [
       "C    7186\n",
       "B     551\n",
       "A     227\n",
       "Name: Class, dtype: int64"
      ]
     },
     "execution_count": 23,
     "metadata": {},
     "output_type": "execute_result"
    }
   ],
   "source": [
    "data_sub.Class.value_counts()"
   ]
  },
  {
   "cell_type": "code",
   "execution_count": 24,
   "metadata": {},
   "outputs": [
    {
     "data": {
      "text/plain": [
       "Text(0.5, 0, 'Number of restaurants')"
      ]
     },
     "execution_count": 24,
     "metadata": {},
     "output_type": "execute_result"
    },
    {
     "data": {
      "image/png": "[encoded data removed]",
      "text/plain": [
       "<Figure size 1080x504 with 1 Axes>"
      ]
     },
     "metadata": {
      "needs_background": "light"
     },
     "output_type": "display_data"
    }
   ],
   "source": [
    "plt.figure(figsize=(15,7))\n",
    "chains= data_sub.Class.value_counts()[:20]\n",
    "sns.barplot(x=chains,y=chains.index,palette='Set1')\n",
    "plt.title(\"ABC Analysis\",size=20,pad=20)\n",
    "plt.xlabel(\"Number of restaurants\",size=15)"
   ]
  },
  {
   "cell_type": "code",
   "execution_count": 25,
   "metadata": {},
   "outputs": [
    {
     "data": {
      "image/png": "[encoded data removed]",
      "text/plain": [
       "<Figure size 432x288 with 1 Axes>"
      ]
     },
     "metadata": {
      "needs_background": "light"
     },
     "output_type": "display_data"
    }
   ],
   "source": [
    "x = np.arange(10)\n",
    "\n",
    "freq_A = data_sub[data_sub.Class == 'A'][:10]\n",
    "freq_B = data_sub[data_sub.Class == 'B'][:10]\n",
    "freq_C = data_sub[data_sub.Class == 'C'][:10]\n",
    "y = freq_A['run_percent']\n",
    "z = freq_B['run_percent']\n",
    "k = freq_C['run_percent']\n",
    "\n",
    "ax = plt.subplot(111)\n",
    "ax.xaxis.set_ticks(np.arange(0, 10))\n",
    "ax.bar(x-0.3, y, width=0.3, color='g', align='center', label='A')\n",
    "ax.bar(x, z, width=0.3, color='b', align='center', label='B')\n",
    "ax.bar(x+0.3, k, width=0.3, color='r', align='center', label='C')\n",
    "\n",
    "plt.xlabel('Restaurant no.')\n",
    "plt.ylabel('Running Total Percentage')\n",
    "plt.title('Top 10 restaurants')\n",
    "plt.legend()\n",
    "plt.show()"
   ]
  },
  {
   "cell_type": "code",
   "execution_count": 26,
   "metadata": {},
   "outputs": [
    {
     "data": {
      "image/png": "[encoded data removed]",
      "text/plain": [
       "<Figure size 432x288 with 1 Axes>"
      ]
     },
     "metadata": {
      "needs_background": "light"
     },
     "output_type": "display_data"
    }
   ],
   "source": [
    "performance = data_sub['add_cost'].tolist()\n",
    "y_pos = np.arange(len(performance))\n",
    "\n",
    "plt.plot(y_pos, performance)\n",
    "plt.ylabel('Cost')\n",
    "plt.title('ABC Analysis - Cost per Restaurant')\n",
    "plt.grid(True)\n",
    "plt.ylim((0,250000))\n",
    "plt.show()"
   ]
  },
  {
   "cell_type": "code",
   "execution_count": 27,
   "metadata": {},
   "outputs": [
    {
     "data": {
      "image/png": "[encoded data removed]",
      "text/plain": [
       "<Figure size 432x288 with 1 Axes>"
      ]
     },
     "metadata": {
      "needs_background": "light"
     },
     "output_type": "display_data"
    }
   ],
   "source": [
    "performance = data_sub['run_percent'].tolist()\n",
    "y_pos = np.arange(len(performance))\n",
    "\n",
    "plt.plot(y_pos, performance)\n",
    "plt.ylabel('Running Total Percentage')\n",
    "plt.title('ABC Analysis - Cumulative Cost per restaurant')\n",
    "plt.grid(True)\n",
    "plt.show()"
   ]
  },
  {
   "cell_type": "code",
   "execution_count": 33,
   "metadata": {},
   "outputs": [
    {
     "data": {
      "text/html": [
       "<div>\n",
       "<style scoped>\n",
       "    .dataframe tbody tr th:only-of-type {\n",
       "        vertical-align: middle;\n",
       "    }\n",
       "\n",
       "    .dataframe tbody tr th {\n",
       "        vertical-align: top;\n",
       "    }\n",
       "\n",
       "    .dataframe thead th {\n",
       "        text-align: right;\n",
       "    }\n",
       "</style>\n",
       "<table border=\"1\" class=\"dataframe\">\n",
       "  <thead>\n",
       "    <tr style=\"text-align: right;\">\n",
       "      <th></th>\n",
       "      <th>rest_name</th>\n",
       "      <th>add_cost</th>\n",
       "      <th>Class</th>\n",
       "    </tr>\n",
       "  </thead>\n",
       "  <tbody>\n",
       "    <tr>\n",
       "      <th>14</th>\n",
       "      <td>Toit</td>\n",
       "      <td>16262000.0</td>\n",
       "      <td>A</td>\n",
       "    </tr>\n",
       "    <tr>\n",
       "      <th>16</th>\n",
       "      <td>Biergarten</td>\n",
       "      <td>11913600.0</td>\n",
       "      <td>A</td>\n",
       "    </tr>\n",
       "    <tr>\n",
       "      <th>9</th>\n",
       "      <td>AB's - Absolute Barbecues                     ...</td>\n",
       "      <td>11857600.0</td>\n",
       "      <td>A</td>\n",
       "    </tr>\n",
       "    <tr>\n",
       "      <th>42</th>\n",
       "      <td>Brew and Barbeque - A Microbrewery Pub        ...</td>\n",
       "      <td>10787000.0</td>\n",
       "      <td>A</td>\n",
       "    </tr>\n",
       "    <tr>\n",
       "      <th>0</th>\n",
       "      <td>The Black Pearl                               ...</td>\n",
       "      <td>9060000.0</td>\n",
       "      <td>A</td>\n",
       "    </tr>\n",
       "  </tbody>\n",
       "</table>\n",
       "</div>"
      ],
      "text/plain": [
       "                                            rest_name    add_cost Class\n",
       "14          Toit                                       16262000.0     A\n",
       "16    Biergarten                                       11913600.0     A\n",
       "9   AB's - Absolute Barbecues                     ...  11857600.0     A\n",
       "42  Brew and Barbeque - A Microbrewery Pub        ...  10787000.0     A\n",
       "0   The Black Pearl                               ...   9060000.0     A"
      ]
     },
     "execution_count": 33,
     "metadata": {},
     "output_type": "execute_result"
    }
   ],
   "source": [
    "freq_A = data_sub[data_sub.Class == 'A'][:5]\n",
    "freq_A = freq_A[['rest_name','add_cost', 'Class']]\n",
    "freq_A"
   ]
  },
  {
   "cell_type": "code",
   "execution_count": 31,
   "metadata": {},
   "outputs": [
    {
     "data": {
      "text/html": [
       "<div>\n",
       "<style scoped>\n",
       "    .dataframe tbody tr th:only-of-type {\n",
       "        vertical-align: middle;\n",
       "    }\n",
       "\n",
       "    .dataframe tbody tr th {\n",
       "        vertical-align: top;\n",
       "    }\n",
       "\n",
       "    .dataframe thead th {\n",
       "        text-align: right;\n",
       "    }\n",
       "</style>\n",
       "<table border=\"1\" class=\"dataframe\">\n",
       "  <thead>\n",
       "    <tr style=\"text-align: right;\">\n",
       "      <th></th>\n",
       "      <th>rest_name</th>\n",
       "      <th>add_cost</th>\n",
       "      <th>Class</th>\n",
       "    </tr>\n",
       "  </thead>\n",
       "  <tbody>\n",
       "    <tr>\n",
       "      <th>406</th>\n",
       "      <td>1Q1</td>\n",
       "      <td>940000.0</td>\n",
       "      <td>B</td>\n",
       "    </tr>\n",
       "    <tr>\n",
       "      <th>660</th>\n",
       "      <td>Oye Amritsar</td>\n",
       "      <td>939950.0</td>\n",
       "      <td>B</td>\n",
       "    </tr>\n",
       "    <tr>\n",
       "      <th>691</th>\n",
       "      <td>Pablo's Gastrobar                             ...</td>\n",
       "      <td>939750.0</td>\n",
       "      <td>B</td>\n",
       "    </tr>\n",
       "    <tr>\n",
       "      <th>131</th>\n",
       "      <td>Smoor</td>\n",
       "      <td>926100.0</td>\n",
       "      <td>B</td>\n",
       "    </tr>\n",
       "    <tr>\n",
       "      <th>102</th>\n",
       "      <td>Foxtrot</td>\n",
       "      <td>925800.0</td>\n",
       "      <td>B</td>\n",
       "    </tr>\n",
       "  </tbody>\n",
       "</table>\n",
       "</div>"
      ],
      "text/plain": [
       "                                             rest_name  add_cost Class\n",
       "406           1Q1                                       940000.0     B\n",
       "660  Oye Amritsar                                       939950.0     B\n",
       "691  Pablo's Gastrobar                             ...  939750.0     B\n",
       "131         Smoor                                       926100.0     B\n",
       "102       Foxtrot                                       925800.0     B"
      ]
     },
     "execution_count": 31,
     "metadata": {},
     "output_type": "execute_result"
    }
   ],
   "source": [
    "freq_B = data_sub[data_sub.Class == 'B'][:5]\n",
    "freq_B = freq_B[['rest_name','add_cost', 'Class']]\n",
    "freq_B"
   ]
  },
  {
   "cell_type": "code",
   "execution_count": 32,
   "metadata": {},
   "outputs": [
    {
     "data": {
      "text/html": [
       "<div>\n",
       "<style scoped>\n",
       "    .dataframe tbody tr th:only-of-type {\n",
       "        vertical-align: middle;\n",
       "    }\n",
       "\n",
       "    .dataframe tbody tr th {\n",
       "        vertical-align: top;\n",
       "    }\n",
       "\n",
       "    .dataframe thead th {\n",
       "        text-align: right;\n",
       "    }\n",
       "</style>\n",
       "<table border=\"1\" class=\"dataframe\">\n",
       "  <thead>\n",
       "    <tr style=\"text-align: right;\">\n",
       "      <th></th>\n",
       "      <th>rest_name</th>\n",
       "      <th>add_cost</th>\n",
       "      <th>Class</th>\n",
       "    </tr>\n",
       "  </thead>\n",
       "  <tbody>\n",
       "    <tr>\n",
       "      <th>355</th>\n",
       "      <td>Veena Stores</td>\n",
       "      <td>199875.0</td>\n",
       "      <td>C</td>\n",
       "    </tr>\n",
       "    <tr>\n",
       "      <th>17</th>\n",
       "      <td>Magnolia Bakery                               ...</td>\n",
       "      <td>199150.0</td>\n",
       "      <td>C</td>\n",
       "    </tr>\n",
       "    <tr>\n",
       "      <th>1363</th>\n",
       "      <td>Chullah Chandigarh                            ...</td>\n",
       "      <td>198000.0</td>\n",
       "      <td>C</td>\n",
       "    </tr>\n",
       "    <tr>\n",
       "      <th>3810</th>\n",
       "      <td>Urban Solace</td>\n",
       "      <td>198000.0</td>\n",
       "      <td>C</td>\n",
       "    </tr>\n",
       "    <tr>\n",
       "      <th>2299</th>\n",
       "      <td>Maa Da Dhaba</td>\n",
       "      <td>197700.0</td>\n",
       "      <td>C</td>\n",
       "    </tr>\n",
       "  </tbody>\n",
       "</table>\n",
       "</div>"
      ],
      "text/plain": [
       "                                              rest_name  add_cost Class\n",
       "355   Veena Stores                                       199875.0     C\n",
       "17    Magnolia Bakery                               ...  199150.0     C\n",
       "1363  Chullah Chandigarh                            ...  198000.0     C\n",
       "3810  Urban Solace                                       198000.0     C\n",
       "2299  Maa Da Dhaba                                       197700.0     C"
      ]
     },
     "execution_count": 32,
     "metadata": {},
     "output_type": "execute_result"
    }
   ],
   "source": [
    "freq_C = data_sub[data_sub.Class == 'C'][:5]\n",
    "freq_C = freq_C[['rest_name','add_cost', 'Class']]\n",
    "freq_C"
   ]
  }
 ],
 "metadata": {
  "kernelspec": {
   "display_name": "Python 3",
   "language": "python",
   "name": "python3"
  },
  "language_info": {
   "codemirror_mode": {
    "name": "ipython",
    "version": 3
   },
   "file_extension": ".py",
   "mimetype": "text/x-python",
   "name": "python",
   "nbconvert_exporter": "python",
   "pygments_lexer": "ipython3",
   "version": "3.8.3"
  }
 },
 "nbformat": 4,
 "nbformat_minor": 2
}
